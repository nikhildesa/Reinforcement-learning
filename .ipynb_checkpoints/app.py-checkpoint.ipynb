{
 "cells": [
  {
   "cell_type": "code",
   "execution_count": 55,
   "metadata": {},
   "outputs": [],
   "source": [
    "import gym\n",
    "import numpy as np\n",
    "import random\n",
    "import time\n",
    "from IPython.display import clear_output"
   ]
  },
  {
   "cell_type": "code",
   "execution_count": 56,
   "metadata": {},
   "outputs": [],
   "source": [
    "env = gym.make('FrozenLake-v0')"
   ]
  },
  {
   "cell_type": "code",
   "execution_count": 57,
   "metadata": {},
   "outputs": [
    {
     "name": "stdout",
     "output_type": "stream",
     "text": [
      "4\n",
      "16\n"
     ]
    }
   ],
   "source": [
    "actions_total = env.action_space.n\n",
    "states_total = env.observation_space.n\n",
    "print(actions_total)\n",
    "print(states_total)"
   ]
  },
  {
   "cell_type": "code",
   "execution_count": 58,
   "metadata": {},
   "outputs": [],
   "source": [
    "q_table = np.zeros([states_total,actions_total])"
   ]
  },
  {
   "cell_type": "code",
   "execution_count": 59,
   "metadata": {},
   "outputs": [],
   "source": [
    "total_episodes = 10000\n",
    "max_steps_episode = 100\n",
    "\n",
    "alpha = 0.1\n",
    "gamma = 0.9\n",
    "\n",
    "exploration_rate = 1\n",
    "max_exploration = 1\n",
    "min_exploration = 0.1\n",
    "exploration_decay = 0.001\n",
    "\n",
    "rewards_per_episode = []"
   ]
  },
  {
   "cell_type": "markdown",
   "metadata": {},
   "source": [
    "# Training"
   ]
  },
  {
   "cell_type": "code",
   "execution_count": 65,
   "metadata": {},
   "outputs": [],
   "source": [
    "for episode in range(total_episodes):\n",
    "    state = env.reset()\n",
    "    done = False\n",
    "    reward_current = 0\n",
    "    \n",
    "    for step in range(max_steps_episode):\n",
    "        number = random.uniform(0,1)\n",
    "        \n",
    "        if(number > exploration_rate):\n",
    "            action = np.argmax(q_table[state,:])\n",
    "        else:\n",
    "            action = env.action_space.sample()\n",
    "            \n",
    "        new_state,rewards,done,_ = env.step(action)\n",
    "        q_table[state,action] = q_table[state,action] * (1 - alpha) +  \\\n",
    "            alpha * (rewards + gamma * np.argmax(q_table[new_state,:]))\n",
    "        \n",
    "        state = new_state\n",
    "        reward_current = reward_current + rewards\n",
    "        \n",
    "        if(done == True):\n",
    "            break\n",
    "    \n",
    "    exploration_rate = min_exploration + (max_exploration - min_exploration) * np.exp(-exploration_decay * episode)\n",
    "    rewards_per_episode.append(reward_current)\n",
    "   "
   ]
  },
  {
   "cell_type": "code",
   "execution_count": 70,
   "metadata": {},
   "outputs": [
    {
     "data": {
      "text/plain": [
       "0.0"
      ]
     },
     "execution_count": 70,
     "metadata": {},
     "output_type": "execute_result"
    }
   ],
   "source": [
    "rewards_per_episode[-100\n",
    "                   ]\n"
   ]
  },
  {
   "cell_type": "markdown",
   "metadata": {},
   "source": [
    "# Testing"
   ]
  },
  {
   "cell_type": "code",
   "execution_count": 54,
   "metadata": {},
   "outputs": [
    {
     "name": "stdout",
     "output_type": "stream",
     "text": [
      "  (Up)\n",
      "\u001b[41mS\u001b[0mFFF\n",
      "FHFH\n",
      "FFFH\n",
      "HFFG\n",
      "Fell in hole\n"
     ]
    }
   ],
   "source": [
    "for episode in range(3):\n",
    "    state = env.reset()\n",
    "    done = False\n",
    "    print(\"Episode no --> \",episode)\n",
    "    time.sleep(3)\n",
    "    \n",
    "    for step in range(max_steps_episode):\n",
    "        clear_output(wait = True)\n",
    "        env.render()\n",
    "        time.sleep(0.5)\n",
    "        \n",
    "        action = np.argmax(q_table[state,:])\n",
    "        new_state,rewards,done,_ = env.step(action)\n",
    "        \n",
    "        if(done == True):\n",
    "            clear_output(wait = True)\n",
    "            env.render()\n",
    "            if(rewards == 1):\n",
    "                print(\"Goal Reached\")\n",
    "                time.sleep(3)\n",
    "            else:\n",
    "                print(\"Fell in hole\")\n",
    "                time.sleep(3)\n",
    "            clear_output(wait = True)\n",
    "            break\n",
    "        state = new_state\n",
    "        \n",
    "env.close()"
   ]
  }
 ],
 "metadata": {
  "kernelspec": {
   "display_name": "Python 3",
   "language": "python",
   "name": "python3"
  },
  "language_info": {
   "codemirror_mode": {
    "name": "ipython",
    "version": 3
   },
   "file_extension": ".py",
   "mimetype": "text/x-python",
   "name": "python",
   "nbconvert_exporter": "python",
   "pygments_lexer": "ipython3",
   "version": "3.7.6"
  }
 },
 "nbformat": 4,
 "nbformat_minor": 4
}
